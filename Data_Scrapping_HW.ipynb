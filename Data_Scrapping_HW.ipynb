{
  "nbformat": 4,
  "nbformat_minor": 0,
  "metadata": {
    "colab": {
      "provenance": [],
      "authorship_tag": "ABX9TyOs5fjlKh12GYDHeZ73AMw9",
      "include_colab_link": true
    },
    "kernelspec": {
      "name": "python3",
      "display_name": "Python 3"
    },
    "language_info": {
      "name": "python"
    }
  },
  "cells": [
    {
      "cell_type": "markdown",
      "metadata": {
        "id": "view-in-github",
        "colab_type": "text"
      },
      "source": [
        "<a href=\"https://colab.research.google.com/github/saksham060/HR-Analytics/blob/main/Data_Scrapping_HW.ipynb\" target=\"_parent\"><img src=\"https://colab.research.google.com/assets/colab-badge.svg\" alt=\"Open In Colab\"/></a>"
      ]
    },
    {
      "cell_type": "code",
      "execution_count": 1,
      "metadata": {
        "id": "CHmLERmmg81v"
      },
      "outputs": [],
      "source": [
        "import requests\n",
        "from bs4 import BeautifulSoup\n",
        "import pandas as pd"
      ]
    },
    {
      "cell_type": "code",
      "source": [
        "url = \"https://en.wikipedia.org/wiki/List_of_active_Indian_military_aircraft\""
      ],
      "metadata": {
        "id": "q72JDAMBhmeN"
      },
      "execution_count": 2,
      "outputs": []
    },
    {
      "cell_type": "code",
      "source": [
        "response = requests.get(url)\n",
        "soup = BeautifulSoup(response.content, 'html.parser')"
      ],
      "metadata": {
        "id": "RtpVFWl0hqXh"
      },
      "execution_count": 3,
      "outputs": []
    },
    {
      "cell_type": "code",
      "source": [
        "table = soup.find('table', {'class': 'wikitable'})"
      ],
      "metadata": {
        "id": "fTnb88XWhs7R"
      },
      "execution_count": 4,
      "outputs": []
    },
    {
      "cell_type": "code",
      "source": [
        "headers = []\n",
        "for header in table.find_all('th'):\n",
        "    headers.append(header.text.strip())"
      ],
      "metadata": {
        "id": "q9nMZ3EOhv-5"
      },
      "execution_count": 5,
      "outputs": []
    },
    {
      "cell_type": "code",
      "source": [
        "rows = []\n",
        "for row in table.find_all('tr'):\n",
        "    cells = row.find_all('td')\n",
        "    cells = [cell.text.strip() for cell in cells]\n",
        "    if cells:\n",
        "        while len(cells) < len(headers):\n",
        "            cells.append('')\n",
        "        rows.append(cells)"
      ],
      "metadata": {
        "id": "LUvlvqfIhyK0"
      },
      "execution_count": 6,
      "outputs": []
    },
    {
      "cell_type": "code",
      "source": [
        "df = pd.DataFrame(rows, columns=headers)\n",
        "df.to_csv('indian_military_aircraft.csv', index=False)\n"
      ],
      "metadata": {
        "id": "_AsnZlCXhytv"
      },
      "execution_count": 7,
      "outputs": []
    },
    {
      "cell_type": "code",
      "source": [
        "print(\"Data has been successfully scraped and saved to 'indian_military_aircraft.csv'\")\n"
      ],
      "metadata": {
        "colab": {
          "base_uri": "https://localhost:8080/"
        },
        "id": "LINtepQlh2QD",
        "outputId": "5567f749-85a5-496d-a630-ab9c2378e51c"
      },
      "execution_count": 8,
      "outputs": [
        {
          "output_type": "stream",
          "name": "stdout",
          "text": [
            "Data has been successfully scraped and saved to 'indian_military_aircraft.csv'\n"
          ]
        }
      ]
    },
    {
      "cell_type": "code",
      "source": [
        "df.to_csv('indian_military_aircraft.csv', index=False)"
      ],
      "metadata": {
        "id": "r7G3qOwoh3yw"
      },
      "execution_count": 9,
      "outputs": []
    },
    {
      "cell_type": "code",
      "source": [
        "df.to_csv('indian_military_aircraft.csv')"
      ],
      "metadata": {
        "id": "B6JhvKaJh7t6"
      },
      "execution_count": 10,
      "outputs": []
    }
  ]
}